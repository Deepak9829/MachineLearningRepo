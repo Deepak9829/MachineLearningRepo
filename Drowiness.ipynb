{
 "cells": [
  {
   "cell_type": "code",
   "execution_count": 1,
   "metadata": {},
   "outputs": [],
   "source": [
    "from scipy.spatial import distance as dist\n",
    "import playsound\n",
    "from imutils import face_utils\n",
    "import cv2\n",
    "import dlib\n",
    "\n",
    "import imutils\n",
    "import numpy as np\n",
    "\n",
    "import matplotlib.pyplot as plt"
   ]
  },
  {
   "cell_type": "code",
   "execution_count": 2,
   "metadata": {},
   "outputs": [],
   "source": [
    "def sound():\n",
    "    playsound.playsound(\"C:\\\\Users\\\\user\\\\Desktop\\\\Missile Alert Sounds _ Effects _ Sound Bites _ Sound Clips from SoundBible.com.mp3\")\n"
   ]
  },
  {
   "cell_type": "code",
   "execution_count": 3,
   "metadata": {},
   "outputs": [],
   "source": [
    "\n",
    "def eye(e):\n",
    "    A=dist.euclidean(e[1],e[5])\n",
    "    B=dist.euclidean(e[2],e[4])\n",
    "    C=dist.euclidean(e[0],e[3])\n",
    "    ratio=(A+B)/C*2.0\n",
    "    return ratio\n",
    "  "
   ]
  },
  {
   "cell_type": "code",
   "execution_count": 7,
   "metadata": {},
   "outputs": [
    {
     "name": "stdout",
     "output_type": "stream",
     "text": [
      "42 48\n",
      "36 42\n"
     ]
    }
   ],
   "source": [
    "\n",
    "alarm=False\n",
    "count=0\n",
    "frame=500\n",
    "aspect_area=0.7\n",
    "path='C:\\\\Users\\\\user\\\\shape_predictor_68_face_landmarks.dat'\n",
    "detect=dlib.get_frontal_face_detector()\n",
    "predict=dlib.shape_predictor(path)\n",
    "(lstart,lend)=face_utils.FACIAL_LANDMARKS_IDXS[\"left_eye\"]\n",
    "(rstart,rend)=face_utils.FACIAL_LANDMARKS_IDXS[\"right_eye\"]\n",
    "print(lstart,lend)\n",
    "print(rstart,rend)\n"
   ]
  },
  {
   "cell_type": "code",
   "execution_count": 6,
   "metadata": {
    "scrolled": true
   },
   "outputs": [],
   "source": [
    "vid = cv2.VideoCapture(0)\n",
    "\n",
    "\n",
    "while True:\n",
    "    success,img =vid.read()\n",
    "    img=imutils.resize(img,width=450)\n",
    "    grey=cv2.cvtColor(img,cv2.COLOR_BGR2GRAY)\n",
    "    rect=detect(grey,0)\n",
    "\n",
    "    for r in rect:\n",
    "        shape=predict(grey,r)\n",
    "        shape=face_utils.shape_to_np(shape)\n",
    "        lefteye=shape[lstart:lend]\n",
    "        righteye=shape[rstart:rend]\n",
    "        leftarea=eye(lefteye)\n",
    "        rightarea=eye(righteye)\n",
    "        \n",
    "        avg_ratio=(leftarea+rightarea)/2.0\n",
    "        \n",
    "        leftEyeHull = cv2.convexHull(lefteye)\n",
    "        rightEyeHull = cv2.convexHull(righteye)\n",
    "        cv2.drawContours(img, [leftEyeHull], -1, (0, 255, 0), 1)\n",
    "        cv2.drawContours(img, [rightEyeHull], -1, (0, 255, 0), 1)\n",
    "      \n",
    "        if (avg_ratio<aspect_area):\n",
    "            count+=1\n",
    "        \n",
    "            if count>=frame:\n",
    "                if not alarm:\n",
    "                    alarm=True\n",
    "                    \n",
    "                    if alarm==True:\n",
    "                        sound()\n",
    "                cv2.putText(img,\"Drowsiness Alert\",(10,30),cv2.FONT_HERSHEY_SIMPLEX, 0.7, (0, 0, 255), 2)\n",
    "        else:\n",
    "            count=0    \n",
    "            alarm=False\n",
    "        cv2.putText(img, \"EAR: {:.2f}\".format(avg_ratio), (300, 30),cv2.FONT_HERSHEY_SIMPLEX, 0.7, (0, 0, 255), 2)\n",
    "    cv2.imshow(\"live video\",img)\n",
    "    \n",
    "    if cv2.waitKey(1) & 0xFF==ord('q'):\n",
    "        break\n",
    "\n",
    "vid.release()\n",
    "cv2.destroyAllWindows()\n"
   ]
  },
  {
   "cell_type": "code",
   "execution_count": null,
   "metadata": {},
   "outputs": [],
   "source": []
  },
  {
   "cell_type": "code",
   "execution_count": 1,
   "metadata": {},
   "outputs": [
    {
     "ename": "ModuleNotFoundError",
     "evalue": "No module named 'cv2'",
     "output_type": "error",
     "traceback": [
      "\u001b[1;31m---------------------------------------------------------------------------\u001b[0m",
      "\u001b[1;31mModuleNotFoundError\u001b[0m                       Traceback (most recent call last)",
      "\u001b[1;32m<ipython-input-1-a081108ad5a8>\u001b[0m in \u001b[0;36m<module>\u001b[1;34m\u001b[0m\n\u001b[1;32m----> 1\u001b[1;33m \u001b[1;32mimport\u001b[0m \u001b[0mcv2\u001b[0m\u001b[1;33m\u001b[0m\u001b[1;33m\u001b[0m\u001b[0m\n\u001b[0m\u001b[0;32m      2\u001b[0m \u001b[0mcv2\u001b[0m\u001b[1;33m.\u001b[0m\u001b[0m__version__\u001b[0m\u001b[1;33m\u001b[0m\u001b[1;33m\u001b[0m\u001b[0m\n\u001b[0;32m      3\u001b[0m \u001b[1;32mimport\u001b[0m \u001b[0mdlib\u001b[0m\u001b[1;33m\u001b[0m\u001b[1;33m\u001b[0m\u001b[0m\n\u001b[0;32m      4\u001b[0m \u001b[0mdlib\u001b[0m\u001b[1;33m.\u001b[0m\u001b[0m__version__\u001b[0m\u001b[1;33m\u001b[0m\u001b[1;33m\u001b[0m\u001b[0m\n",
      "\u001b[1;31mModuleNotFoundError\u001b[0m: No module named 'cv2'"
     ]
    }
   ],
   "source": [
    "\n",
    "import cv2\n",
    "cv2.__version__\n",
    "import dlib\n",
    "dlib.__version__"
   ]
  },
  {
   "cell_type": "code",
   "execution_count": null,
   "metadata": {},
   "outputs": [],
   "source": []
  }
 ],
 "metadata": {
  "kernelspec": {
   "display_name": "Python 3",
   "language": "python",
   "name": "python3"
  },
  "language_info": {
   "codemirror_mode": {
    "name": "ipython",
    "version": 3
   },
   "file_extension": ".py",
   "mimetype": "text/x-python",
   "name": "python",
   "nbconvert_exporter": "python",
   "pygments_lexer": "ipython3",
   "version": "3.8.3"
  }
 },
 "nbformat": 4,
 "nbformat_minor": 2
}
